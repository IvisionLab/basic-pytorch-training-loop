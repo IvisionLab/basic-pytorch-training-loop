{
  "nbformat": 4,
  "nbformat_minor": 0,
  "metadata": {
    "interpreter": {
      "hash": "916dbcbb3f70747c44a77c7bcd40155683ae19c65e1c03b4aa3499c5328201f1"
    },
    "kernelspec": {
      "display_name": "Python 3",
      "language": "python",
      "name": "python3"
    },
    "language_info": {
      "codemirror_mode": {
        "name": "ipython",
        "version": 3
      },
      "file_extension": ".py",
      "mimetype": "text/x-python",
      "name": "python",
      "nbconvert_exporter": "python",
      "pygments_lexer": "ipython3",
      "version": "3.7.7"
    },
    "colab": {
      "name": "simple-torch.ipynb",
      "provenance": [],
      "collapsed_sections": []
    },
    "accelerator": "GPU"
  },
  "cells": [
    {
      "cell_type": "markdown",
      "metadata": {
        "id": "URx8-zM9FvaV"
      },
      "source": [
        "## Google Drive"
      ]
    },
    {
      "cell_type": "code",
      "metadata": {
        "id": "8wN51262FzqB"
      },
      "source": [
        "from google.colab import drive\n",
        "drive.mount('/content/drive/')"
      ],
      "execution_count": null,
      "outputs": []
    },
    {
      "cell_type": "code",
      "metadata": {
        "id": "j6z69snFGHH-"
      },
      "source": [
        "import os # Operational System\n",
        "drive_dir = 'drive/MyDrive/'\n",
        "\n",
        "# 'drive/MyDrive/datasets/glomerulos-classification-challenge/glomerulos/'\n",
        "dataset_dir = os.path.join(drive_dir, 'datasets/glomerulos-classification-challenge/glomerulos/')\n",
        "os.listdir(dataset_dir)"
      ],
      "execution_count": null,
      "outputs": []
    },
    {
      "cell_type": "markdown",
      "metadata": {
        "id": "2fqxEXKcFlrt"
      },
      "source": [
        "# Imports"
      ]
    },
    {
      "cell_type": "code",
      "metadata": {
        "id": "KPCXFKSpFlrx"
      },
      "source": [
        "import os # Operational System\n",
        "import time\n",
        "import random\n",
        "\n",
        "import numpy as np # matrices\n",
        "import matplotlib.pyplot as plt # graphics and images\n",
        "\n",
        "# PyTorch (Facebook)\n",
        "import torch\n",
        "import torch.nn as nn\n",
        "import torch.optim as optim\n",
        "from torch.utils.data import DataLoader\n",
        "\n",
        "# \"PyTorch\" for Images\n",
        "import torchvision\n",
        "from torchvision import datasets, transforms"
      ],
      "execution_count": null,
      "outputs": []
    },
    {
      "cell_type": "markdown",
      "metadata": {
        "id": "DtrEU9UsFlrz"
      },
      "source": [
        "## Transforms"
      ]
    },
    {
      "cell_type": "code",
      "metadata": {
        "id": "p7FmEBfSFlrz"
      },
      "source": [
        "img_size = 224\n",
        "\n",
        "# ImageNet mean and stdv\n",
        "mean = [0.485, 0.456, 0.406] # R mean, G mean, B mean\n",
        "stdv = [0.229, 0.224, 0.225] # R stdv, G stdv, B stdv\n",
        "\n",
        "simple_train_transform = transforms.Compose([                                 \n",
        "    transforms.Resize((img_size, img_size)),\n",
        "    transforms.RandomHorizontalFlip(p=0.5),\n",
        "    transforms.ToTensor(),\n",
        "    transforms.Normalize(mean, stdv)\n",
        "])\n",
        "\n",
        "simple_val_transform = transforms.Compose([                                 \n",
        "    transforms.Resize((img_size, img_size)),\n",
        "    transforms.ToTensor(),\n",
        "    transforms.Normalize(mean, stdv)\n",
        "])"
      ],
      "execution_count": null,
      "outputs": []
    },
    {
      "cell_type": "markdown",
      "metadata": {
        "id": "o6WbxuTlFlr0"
      },
      "source": [
        "## Data sets"
      ]
    },
    {
      "cell_type": "code",
      "metadata": {
        "id": "KzkBYaQyFlr0"
      },
      "source": [
        "root_dir = dataset_dir\n",
        "\n",
        "my_datasets = {\n",
        "    'train': datasets.ImageFolder(os.path.join(root_dir, 'train'), transform=simple_train_transform),\n",
        "    'val': datasets.ImageFolder(os.path.join(root_dir, 'val'), transform=simple_val_transform)\n",
        "}"
      ],
      "execution_count": null,
      "outputs": []
    },
    {
      "cell_type": "code",
      "metadata": {
        "id": "iLzT1tZGFlr1"
      },
      "source": [
        "# select first image\n",
        "image, label = my_datasets['train'][0]\n",
        "lesion_dict = {0: 'endocapillary', 1: 'endomes', 2: 'mesangial', 3: 'normal'}\n",
        "lesion = lesion_dict[label]\n",
        "\n",
        "print(f'First image is labeled as {lesion}.')\n",
        "np_img = [\\\n",
        "    image\n",
        "    .detach()           # to remove the tensor from the computational graph\n",
        "    .cpu()              # send image to cpu if it is in gpu\n",
        "    .permute((1, 2, 0)) # [channels, height, width] -> [height, width, channels]\n",
        "    .numpy()            # convert to numpy array\n",
        "][0]\n",
        "\n",
        "plt.imshow(np_img)"
      ],
      "execution_count": null,
      "outputs": []
    },
    {
      "cell_type": "code",
      "metadata": {
        "id": "cToBGLcPFlr1"
      },
      "source": [
        "# select a random image\n",
        "random_idx = random.randint(0, len(my_datasets['val']))\n",
        "image, label = my_datasets['val'][random_idx]\n",
        "lesion = lesion_dict[label]\n",
        "\n",
        "print(f'Image is of a {lesion}.')\n",
        "np_img = [\\\n",
        "    image\n",
        "    .detach()           # to remove the tensor from the computational graph\n",
        "    .cpu()              # send image to cpu if it is in gpu\n",
        "    .permute((1, 2, 0)) # [channels, height, width] -> [height, width, channels]\n",
        "    .numpy()            # convert to numpy array\n",
        "][0]\n",
        "\n",
        "plt.imshow(np_img)"
      ],
      "execution_count": null,
      "outputs": []
    },
    {
      "cell_type": "markdown",
      "metadata": {
        "id": "U6Zo7jfSFlr2"
      },
      "source": [
        "## Data loader"
      ]
    },
    {
      "cell_type": "code",
      "metadata": {
        "id": "HpT8wA3FFlr3"
      },
      "source": [
        "batch_size = 64\n",
        "num_workers = 2\n",
        "\n",
        "my_dataloaders = {\n",
        "    'train': DataLoader(\n",
        "        my_datasets['train'],\n",
        "        batch_size=batch_size,\n",
        "        shuffle=True,\n",
        "        num_workers=num_workers\n",
        "    ),\n",
        "    'val': DataLoader(\n",
        "        my_datasets['val'],\n",
        "        batch_size=8*batch_size, # we are using a large batch size because we are not going to compute the gradients\n",
        "        shuffle=False,\n",
        "        num_workers=2,\n",
        "        pin_memory=True\n",
        "    ),\n",
        "}"
      ],
      "execution_count": null,
      "outputs": []
    },
    {
      "cell_type": "code",
      "metadata": {
        "id": "Y5pOjXHaFlr3"
      },
      "source": [
        "# first option (usually the worst)\n",
        "\n",
        "# To understand: images, labels = iter(my_dataloaders['train']).next()\n",
        "dataiter = iter(my_dataloaders['train'])\n",
        "for _ in range(len(my_dataloaders['train']) // batch_size):\n",
        "    images, labels = dataiter.next() # we are loading now a BATCH of images and labels\n",
        "    print(images.shape) # [batch, channel, height, width]\n",
        "\n",
        "    # select only the first image and plot it\n",
        "    np_img = images[0].detach().cpu().permute((1, 2, 0)).numpy()\n",
        "    plt.imshow(np_img)\n",
        "    break"
      ],
      "execution_count": null,
      "outputs": []
    },
    {
      "cell_type": "code",
      "metadata": {
        "id": "TD7UW9o4Flr4"
      },
      "source": [
        "# second option (usually the best)\n",
        "for images, labels in my_dataloaders['train']:\n",
        "    print(images.shape) # [batch, channel, height, width]\n",
        "\n",
        "    # select only the first image and plot it\n",
        "    np_img = images[0].detach().cpu().permute((1, 2, 0)).numpy()\n",
        "    plt.imshow(np_img)\n",
        "    break"
      ],
      "execution_count": null,
      "outputs": []
    },
    {
      "cell_type": "markdown",
      "metadata": {
        "id": "iLGdgJzYFlr4"
      },
      "source": [
        "## Model"
      ]
    },
    {
      "cell_type": "code",
      "metadata": {
        "id": "C5p5oMgyFlr5"
      },
      "source": [
        "model = torchvision.models.resnet50(pretrained=True)\n",
        "model.fc = nn.Linear(in_features=2048, out_features=4, bias=True)"
      ],
      "execution_count": null,
      "outputs": []
    },
    {
      "cell_type": "markdown",
      "metadata": {
        "id": "2TkKB0NjFlr6"
      },
      "source": [
        "## Custom Model"
      ]
    },
    {
      "cell_type": "code",
      "metadata": {
        "id": "r0y-r3D0Flr6"
      },
      "source": [
        "class RedeVisaoComputacional(nn.Module):\n",
        "    def __init__(self):\n",
        "        super().__init__()\n",
        "        # Define your network architecture below\n",
        "        self.fc1 = nn.Linear(in_features=3*224*224, out_features=10)\n",
        "        self.fc2 = nn.Linear(in_features=10, out_features=4)\n",
        "\n",
        "    def forward(x):\n",
        "        # Compute forward pass below\n",
        "        x = self.fc1(x)\n",
        "        x = self.fc2(x)\n",
        "\n",
        "        return x"
      ],
      "execution_count": null,
      "outputs": []
    },
    {
      "cell_type": "markdown",
      "metadata": {
        "id": "flF2wa8wFlr7"
      },
      "source": [
        "## Other Inputs"
      ]
    },
    {
      "cell_type": "code",
      "metadata": {
        "id": "MIR4wJrXFlr7"
      },
      "source": [
        "epochs = 300 # steps\n",
        "learning_rate = 1e-4\n",
        "\n",
        "criterion = nn.CrossEntropyLoss(reduction='sum')\n",
        "optimizer = optim.SGD(model.parameters(), lr=learning_rate)\n",
        "\n",
        "device = 'cuda' if torch.cuda.is_available() else 'cpu'"
      ],
      "execution_count": null,
      "outputs": []
    },
    {
      "cell_type": "markdown",
      "metadata": {
        "id": "3LRo-y6qy4FP"
      },
      "source": [
        "## Training"
      ]
    },
    {
      "cell_type": "code",
      "metadata": {
        "id": "_CAnyb3sFlr9"
      },
      "source": [
        "def single_gpu_train(\n",
        "    model,\n",
        "    train_loader,\n",
        "    valid_loader,\n",
        "    criterion,\n",
        "    optimizer,\n",
        "    name='visao-computacional',\n",
        "    num_classes=4,\n",
        "    device='cuda'\n",
        "):\n",
        "    device = torch.device(device)\n",
        "    model = model.to(device)\n",
        "\n",
        "    min_valid_loss = np.Inf\n",
        "    for epoch in range(1, epochs+1):\n",
        "        print(f\"Epoch {epoch}/{epochs}\\n\")\n",
        "        start_time = time.time()\n",
        "\n",
        "        ############\n",
        "        # Training #\n",
        "        ############\n",
        "        train_running_loss = 0\n",
        "        train_class_correct = [0. for _ in range(num_classes)] # [0., 0., 0., 0.] if four classes\n",
        "        train_class_total = [0. for _ in range(num_classes)]   # [0., 0., 0., 0.] if four classes\n",
        "        for images, labels in train_loader:\n",
        "            # put model in training mode\n",
        "            model.train()\n",
        "\n",
        "            # send images and labels to GPU if available\n",
        "            images, labels = images.to(device), labels.to(device)\n",
        "\n",
        "            # compute the feedforward pass and the loss\n",
        "            log_ps = model(images) # feedforward\n",
        "            loss = criterion(log_ps, labels)\n",
        "            train_running_loss += loss.item()\n",
        "\n",
        "            # update the weights with back propagation\n",
        "            optimizer.zero_grad() # zero the gradients\n",
        "            loss.backward()       # backprop\n",
        "            optimizer.step()      # update the weights\n",
        "\n",
        "            # convert output probabilities to the predicted class\n",
        "            _, pred = torch.max(log_ps, 1)\n",
        "\n",
        "            # compare predictions to true label\n",
        "            correct_tensor = pred.eq(labels.data.view_as(pred))\n",
        "            correct = np.squeeze(correct_tensor.cpu().numpy())\n",
        "\n",
        "            # calculate train accuracy for each object class\n",
        "            for i in range(images.shape[0]):\n",
        "                label = labels.data[i]\n",
        "                train_class_correct[label] += correct[i].item()\n",
        "                train_class_total[label] += 1\n",
        "\n",
        "        # Training metrics\n",
        "        avg_training_loss = train_running_loss/len(train_loader.dataset)\n",
        "        print(f\"Training loss: {avg_training_loss:.3f}\")\n",
        "\n",
        "        true_positives = int(np.sum(train_class_correct))\n",
        "        total = int(np.sum(train_class_total))\n",
        "        percentage = 100*true_positives/total\n",
        "        print(f'Train Accuracy (Overall): {percentage:.2f}% ({true_positives}/{total})\\n')\n",
        "\n",
        "        ########################################\n",
        "        # Evaluation on the validation dataset #\n",
        "        ########################################\n",
        "        with torch.no_grad():\n",
        "            accuracy, running_valid_loss = 0, 0\n",
        "            class_correct = [0. for _ in range(num_classes)]\n",
        "            class_total = [0. for _ in range(num_classes)]\n",
        "            for images, labels in valid_loader:\n",
        "                # put model in evaluation mode\n",
        "                model.eval() # For instance, remove dropout\n",
        "\n",
        "                # send images and labels to GPU if available\n",
        "                images, labels = images.to(device), labels.to(device)\n",
        "\n",
        "                # compute the loss for tracking purposes (we do not backprogate)\n",
        "                log_ps = model(images)\n",
        "                batch_loss = criterion(log_ps, labels)\n",
        "                running_valid_loss += batch_loss.item()\n",
        "\n",
        "                # Calculate accuracy\n",
        "                ps = torch.exp(log_ps)\n",
        "                _, top_class = ps.topk(1, dim=1)\n",
        "                equals = (top_class == labels.view(*top_class.shape))\n",
        "                accuracy += torch.mean(equals.type(torch.FloatTensor)).item()\n",
        "\n",
        "                # convert output probabilities to predicted class\n",
        "                _, pred = torch.max(log_ps, 1)    \n",
        "                # compare predictions to true label\n",
        "                correct_tensor = pred.eq(labels.data.view_as(pred))\n",
        "                correct = np.squeeze(correct_tensor.cpu().numpy())\n",
        "\n",
        "                # calculate test accuracy for each object class\n",
        "                for i in range(images.shape[0]):\n",
        "                    label = labels.data[i]\n",
        "                    class_correct[label] += correct[i].item()\n",
        "                    class_total[label] += 1\n",
        "\n",
        "        # Validation metrics\n",
        "        avg_validation_loss = running_valid_loss/len(valid_loader.dataset)\n",
        "        print(f\"Validation loss: {avg_validation_loss:.3f}\")\n",
        "\n",
        "        true_positives = int(np.sum(class_correct))\n",
        "        total = int(np.sum(class_total))\n",
        "        percentage = 100*true_positives/total\n",
        "        print(f'Validation Accuracy (Overall): {percentage:.2f}% ({true_positives}/{total})')\n",
        "\n",
        "        # save model if validation loss decreased\n",
        "        if avg_validation_loss < min_valid_loss:\n",
        "            print(f'Validation loss decreased ({min_valid_loss:.6f} --> {avg_validation_loss:.6f}). Saving model ...')\n",
        "            torch.save(model.state_dict(), f'{name}-checkpoint.pth')\n",
        "            min_valid_loss = avg_validation_loss\n",
        "\n",
        "        end_time = time.time()\n",
        "\n",
        "        print(f\"Epoch took {(end_time - start_time):.3f} seconds\\n\")"
      ],
      "execution_count": null,
      "outputs": []
    },
    {
      "cell_type": "markdown",
      "metadata": {
        "id": "Bdk4mgzrFlr-"
      },
      "source": [
        "## Training per se"
      ]
    },
    {
      "cell_type": "code",
      "metadata": {
        "id": "NVuM7fowFlr_"
      },
      "source": [
        "single_gpu_train(\n",
        "    model=model,\n",
        "    train_loader=my_dataloaders['train'],\n",
        "    valid_loader=my_dataloaders['val'],\n",
        "    criterion=criterion,\n",
        "    optimizer=optimizer\n",
        ")"
      ],
      "execution_count": null,
      "outputs": []
    },
    {
      "cell_type": "markdown",
      "metadata": {
        "id": "Rxu1qg94Flr_"
      },
      "source": [
        "## What's next?"
      ]
    },
    {
      "cell_type": "markdown",
      "metadata": {
        "id": "S_e3H3CtgqNg"
      },
      "source": [
        "- Activation Functions\n",
        "- Advanced Data Augmentation\n",
        "- Batch Normalization\n",
        "- Dropout\n",
        "- Input Size\n",
        "- Learning Rate Schedulers, Linear Warm-Up\n",
        "- Loss Function (Weights)\n",
        "- Metric(s)\n",
        "- Optimizers\n",
        "- Avg. Pooling; \n",
        "- Etc."
      ]
    },
    {
      "cell_type": "code",
      "metadata": {
        "id": "5fcJKml7FlsA"
      },
      "source": [
        ""
      ],
      "execution_count": null,
      "outputs": []
    }
  ]
}